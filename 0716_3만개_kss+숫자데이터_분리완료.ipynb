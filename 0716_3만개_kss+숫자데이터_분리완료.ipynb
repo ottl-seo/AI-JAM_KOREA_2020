{
 "cells": [
  {
   "cell_type": "markdown",
   "metadata": {},
   "source": [
    "## 1. 라이브러리 불러오기"
   ]
  },
  {
   "cell_type": "code",
   "execution_count": 1,
   "metadata": {
    "scrolled": true
   },
   "outputs": [],
   "source": [
    "import kss\n",
    "\n",
    "s = \"회사 동료 분들과 다녀왔는데 분위기도 좋고 음식도 맛있었어요 다만, 강남 토끼정이 강남 쉑쉑버거 골목길로 쭉 올라가야 하는데 다들 쉑쉑버거의 유혹에 넘어갈 뻔 했답니다 강남역 맛집 토끼정의 외부 모습.\"\n",
    "for sent in kss.split_sentences(s):\n",
    "    print(sent)"
   ]
  },
  {
   "cell_type": "code",
   "execution_count": 2,
   "metadata": {},
   "outputs": [],
   "source": [
    "import pandas as pd\n",
    "import numpy as np\n",
    "import matplotlib.pyplot as plt\n",
    "%matplotlib inline\n",
    "from pandas import DataFrame, Series\n",
    "import re"
   ]
  },
  {
   "cell_type": "markdown",
   "metadata": {},
   "source": [
    "## 2.  데이터 불러오기"
   ]
  },
  {
   "cell_type": "code",
   "execution_count": 3,
   "metadata": {},
   "outputs": [],
   "source": [
    "\n",
    "df = pd.read_csv('data/df0716.csv', encoding=\"UTF8\")\n",
    "# pd.DataFrame(open('data/df0716.csv', 'r', encoding=\"UTF8\"))\n",
    "\n",
    "df = df.iloc[2040:2540,:] # 일단 df에 500개만 저장\n",
    "sample = df.iloc[:5,:] # 5개만 저장\n",
    "\n",
    "df_all = pd.read_csv(\"data/df0716.csv\", encoding=\"UTF8\") # 30000개 짜리는 df_all 에 저장\n",
    "# 새로운 데이터 만들때 처음 컬럼명 댓글 인덱스- 그대로 !!! 주의\n"
   ]
  },
  {
   "cell_type": "code",
   "execution_count": 4,
   "metadata": {},
   "outputs": [
    {
     "data": {
      "text/html": [
       "<div>\n",
       "<style scoped>\n",
       "    .dataframe tbody tr th:only-of-type {\n",
       "        vertical-align: middle;\n",
       "    }\n",
       "\n",
       "    .dataframe tbody tr th {\n",
       "        vertical-align: top;\n",
       "    }\n",
       "\n",
       "    .dataframe thead th {\n",
       "        text-align: right;\n",
       "    }\n",
       "</style>\n",
       "<table border=\"1\" class=\"dataframe\">\n",
       "  <thead>\n",
       "    <tr style=\"text-align: right;\">\n",
       "      <th></th>\n",
       "      <th>추가일시</th>\n",
       "      <th>전체 인덱스</th>\n",
       "      <th>채널명</th>\n",
       "      <th>채널인덱스</th>\n",
       "      <th>댓글구분</th>\n",
       "      <th>댓글내용</th>\n",
       "      <th>좋아요</th>\n",
       "    </tr>\n",
       "  </thead>\n",
       "  <tbody>\n",
       "    <tr>\n",
       "      <th>0</th>\n",
       "      <td>13 11:58:52</td>\n",
       "      <td>1</td>\n",
       "      <td>영국남자</td>\n",
       "      <td>1</td>\n",
       "      <td>0</td>\n",
       "      <td>배우분들 어떤 경로 로 섭외하나요? 진짜 궁금합니다... 그리고 진심으로 이분만큼은...</td>\n",
       "      <td>870</td>\n",
       "    </tr>\n",
       "    <tr>\n",
       "      <th>1</th>\n",
       "      <td>13 11:58:52</td>\n",
       "      <td>2</td>\n",
       "      <td>영국남자</td>\n",
       "      <td>2</td>\n",
       "      <td>0</td>\n",
       "      <td>인생 최대의 방송사고 알려줘요</td>\n",
       "      <td>675</td>\n",
       "    </tr>\n",
       "    <tr>\n",
       "      <th>2</th>\n",
       "      <td>13 11:58:52</td>\n",
       "      <td>3</td>\n",
       "      <td>영국남자</td>\n",
       "      <td>3</td>\n",
       "      <td>0</td>\n",
       "      <td>조쉬와올리가 한국을 넘나 사랑하는것을 알지만 그래도 가끔 한국이나 한국사람들에게 실...</td>\n",
       "      <td>1600</td>\n",
       "    </tr>\n",
       "    <tr>\n",
       "      <th>3</th>\n",
       "      <td>13 11:58:52</td>\n",
       "      <td>4</td>\n",
       "      <td>영국남자</td>\n",
       "      <td>4</td>\n",
       "      <td>0</td>\n",
       "      <td>조쉬와 올리가 가장 탐나는 한국이름은?</td>\n",
       "      <td>461</td>\n",
       "    </tr>\n",
       "    <tr>\n",
       "      <th>4</th>\n",
       "      <td>13 11:58:53</td>\n",
       "      <td>5</td>\n",
       "      <td>영국남자</td>\n",
       "      <td>5</td>\n",
       "      <td>0</td>\n",
       "      <td>How do you get to interview all these famous p...</td>\n",
       "      <td>433</td>\n",
       "    </tr>\n",
       "  </tbody>\n",
       "</table>\n",
       "</div>"
      ],
      "text/plain": [
       "          추가일시  전체 인덱스   채널명  채널인덱스  댓글구분  \\\n",
       "0  13 11:58:52       1  영국남자      1     0   \n",
       "1  13 11:58:52       2  영국남자      2     0   \n",
       "2  13 11:58:52       3  영국남자      3     0   \n",
       "3  13 11:58:52       4  영국남자      4     0   \n",
       "4  13 11:58:53       5  영국남자      5     0   \n",
       "\n",
       "                                                댓글내용   좋아요  \n",
       "0  배우분들 어떤 경로 로 섭외하나요? 진짜 궁금합니다... 그리고 진심으로 이분만큼은...   870  \n",
       "1                                   인생 최대의 방송사고 알려줘요   675  \n",
       "2  조쉬와올리가 한국을 넘나 사랑하는것을 알지만 그래도 가끔 한국이나 한국사람들에게 실...  1600  \n",
       "3                              조쉬와 올리가 가장 탐나는 한국이름은?   461  \n",
       "4  How do you get to interview all these famous p...   433  "
      ]
     },
     "execution_count": 4,
     "metadata": {},
     "output_type": "execute_result"
    }
   ],
   "source": [
    "df_all.head()"
   ]
  },
  {
   "cell_type": "code",
   "execution_count": 5,
   "metadata": {},
   "outputs": [
    {
     "data": {
      "text/html": [
       "<div>\n",
       "<style scoped>\n",
       "    .dataframe tbody tr th:only-of-type {\n",
       "        vertical-align: middle;\n",
       "    }\n",
       "\n",
       "    .dataframe tbody tr th {\n",
       "        vertical-align: top;\n",
       "    }\n",
       "\n",
       "    .dataframe thead th {\n",
       "        text-align: right;\n",
       "    }\n",
       "</style>\n",
       "<table border=\"1\" class=\"dataframe\">\n",
       "  <thead>\n",
       "    <tr style=\"text-align: right;\">\n",
       "      <th></th>\n",
       "      <th>댓글내용</th>\n",
       "    </tr>\n",
       "  </thead>\n",
       "  <tbody>\n",
       "    <tr>\n",
       "      <th>0</th>\n",
       "      <td>배우분들 어떤 경로 로 섭외하나요? 진짜 궁금합니다... 그리고 진심으로 이분만큼은...</td>\n",
       "    </tr>\n",
       "    <tr>\n",
       "      <th>1</th>\n",
       "      <td>인생 최대의 방송사고 알려줘요</td>\n",
       "    </tr>\n",
       "    <tr>\n",
       "      <th>2</th>\n",
       "      <td>조쉬와올리가 한국을 넘나 사랑하는것을 알지만 그래도 가끔 한국이나 한국사람들에게 실...</td>\n",
       "    </tr>\n",
       "    <tr>\n",
       "      <th>3</th>\n",
       "      <td>조쉬와 올리가 가장 탐나는 한국이름은?</td>\n",
       "    </tr>\n",
       "    <tr>\n",
       "      <th>4</th>\n",
       "      <td>How do you get to interview all these famous p...</td>\n",
       "    </tr>\n",
       "    <tr>\n",
       "      <th>...</th>\n",
       "      <td>...</td>\n",
       "    </tr>\n",
       "    <tr>\n",
       "      <th>31153</th>\n",
       "      <td>1. 작은누나 소개팅썰. \\n술 드셨는지, 드셨다면 안취하셨는지, 잘되어가고있는지,...</td>\n",
       "    </tr>\n",
       "    <tr>\n",
       "      <th>31154</th>\n",
       "      <td>미르님 진짜 사나이에 꽂아줬더니 힘들다고 바로 빠져오고 그자리에 뒷차로 들어간 박형...</td>\n",
       "    </tr>\n",
       "    <tr>\n",
       "      <th>31155</th>\n",
       "      <td>Q&amp;A 안하면 안돼요? 별로 궁금한거 없는데</td>\n",
       "    </tr>\n",
       "    <tr>\n",
       "      <th>31156</th>\n",
       "      <td>효선언니... 남편있으신데 와이프자리 남으니 제가 와이프해도 될까오...? 효진언니...</td>\n",
       "    </tr>\n",
       "    <tr>\n",
       "      <th>31157</th>\n",
       "      <td>1.소개팅날 만취여부 2.소개팅날 가방진품? 3.소개팅날 무사히 집귀가?</td>\n",
       "    </tr>\n",
       "  </tbody>\n",
       "</table>\n",
       "<p>31158 rows × 1 columns</p>\n",
       "</div>"
      ],
      "text/plain": [
       "                                                    댓글내용\n",
       "0      배우분들 어떤 경로 로 섭외하나요? 진짜 궁금합니다... 그리고 진심으로 이분만큼은...\n",
       "1                                       인생 최대의 방송사고 알려줘요\n",
       "2      조쉬와올리가 한국을 넘나 사랑하는것을 알지만 그래도 가끔 한국이나 한국사람들에게 실...\n",
       "3                                  조쉬와 올리가 가장 탐나는 한국이름은?\n",
       "4      How do you get to interview all these famous p...\n",
       "...                                                  ...\n",
       "31153  1. 작은누나 소개팅썰. \\n술 드셨는지, 드셨다면 안취하셨는지, 잘되어가고있는지,...\n",
       "31154  미르님 진짜 사나이에 꽂아줬더니 힘들다고 바로 빠져오고 그자리에 뒷차로 들어간 박형...\n",
       "31155                           Q&A 안하면 안돼요? 별로 궁금한거 없는데\n",
       "31156  효선언니... 남편있으신데 와이프자리 남으니 제가 와이프해도 될까오...? 효진언니...\n",
       "31157           1.소개팅날 만취여부 2.소개팅날 가방진품? 3.소개팅날 무사히 집귀가?\n",
       "\n",
       "[31158 rows x 1 columns]"
      ]
     },
     "execution_count": 5,
     "metadata": {},
     "output_type": "execute_result"
    }
   ],
   "source": [
    "df_loc = df_all.loc[:,\"댓글내용\"] # 댓글내용만 가져오기\n",
    "pd.DataFrame(df_loc)"
   ]
  },
  {
   "cell_type": "markdown",
   "metadata": {},
   "source": [
    "## 3. 새로운 csv 파일 만들기"
   ]
  },
  {
   "cell_type": "code",
   "execution_count": 6,
   "metadata": {},
   "outputs": [],
   "source": [
    "import openpyxl\n",
    "import re"
   ]
  },
  {
   "cell_type": "code",
   "execution_count": 7,
   "metadata": {},
   "outputs": [],
   "source": [
    "wb = openpyxl.Workbook()"
   ]
  },
  {
   "cell_type": "code",
   "execution_count": 8,
   "metadata": {},
   "outputs": [],
   "source": [
    "sheet = wb.active"
   ]
  },
  {
   "cell_type": "code",
   "execution_count": 9,
   "metadata": {},
   "outputs": [],
   "source": [
    "sheet.append(['댓글인덱스','추가일시',\"전체인덱스\",'채널명','채널인덱스',\"댓글내용\",'좋아요'])\n",
    "# 8개의 열 column"
   ]
  },
  {
   "cell_type": "markdown",
   "metadata": {},
   "source": [
    "### kss로 분리 + 숫자로도 분리"
   ]
  },
  {
   "cell_type": "code",
   "execution_count": 10,
   "metadata": {},
   "outputs": [],
   "source": [
    "num = 0 # 댓글인덱스: 고유번호 == num\n",
    "\n",
    "df_length = len(df_all) # df의크기를 df_length에 저장\n",
    "\n",
    "for i in range (0,df_length):\n",
    "    date = df_all.iloc[i,0]  # 추가일시\n",
    "    ch_name = df_all.iloc[i,2] # 채널명\n",
    "    ch_index = df_all.iloc[i,3] # 채널인덱스\n",
    "    like = df_all.iloc[i,6] # 좋아요\n",
    "\n",
    "    for sent in kss.split_sentences(df_loc.iloc[i]):\n",
    "        # df_loc.iloc[i] => i가 댓글구분\n",
    "        sent2 = re.split(\"[0-9]+\\.|[0-9]+\\)|Q[0-9]+\",sent) # 정규 표현식\n",
    "        \n",
    "        for s in sent2:\n",
    "            if (s==\"\"):\n",
    "                continue\n",
    "            num+=1\n",
    "            sheet.append([num,date,i, ch_name,ch_index, s, like]) \n",
    "        # 원래의 column 유지"
   ]
  },
  {
   "cell_type": "code",
   "execution_count": 11,
   "metadata": {},
   "outputs": [],
   "source": [
    "wb.save(\"0716complete_v5.xlsx\")"
   ]
  },
  {
   "cell_type": "code",
   "execution_count": 12,
   "metadata": {},
   "outputs": [
    {
     "data": {
      "text/plain": [
       "(31158, 7)"
      ]
     },
     "execution_count": 12,
     "metadata": {},
     "output_type": "execute_result"
    }
   ],
   "source": [
    "df_all.shape"
   ]
  },
  {
   "cell_type": "code",
   "execution_count": 13,
   "metadata": {},
   "outputs": [
    {
     "data": {
      "text/plain": [
       "31158"
      ]
     },
     "execution_count": 13,
     "metadata": {},
     "output_type": "execute_result"
    }
   ],
   "source": [
    "df_length"
   ]
  },
  {
   "cell_type": "code",
   "execution_count": null,
   "metadata": {},
   "outputs": [],
   "source": []
  }
 ],
 "metadata": {
  "kernelspec": {
   "display_name": "Python 3",
   "language": "python",
   "name": "python3"
  },
  "language_info": {
   "codemirror_mode": {
    "name": "ipython",
    "version": 3
   },
   "file_extension": ".py",
   "mimetype": "text/x-python",
   "name": "python",
   "nbconvert_exporter": "python",
   "pygments_lexer": "ipython3",
   "version": "3.7.6"
  }
 },
 "nbformat": 4,
 "nbformat_minor": 4
}
